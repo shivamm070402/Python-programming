{
 "cells": [
  {
   "cell_type": "markdown",
   "metadata": {},
   "source": [
    "# 1. Calculate the length of a String\n"
   ]
  },
  {
   "cell_type": "code",
   "execution_count": 2,
   "metadata": {},
   "outputs": [
    {
     "data": {
      "text/plain": [
       "6"
      ]
     },
     "execution_count": 2,
     "metadata": {},
     "output_type": "execute_result"
    }
   ],
   "source": [
    "string = \"Shivam\" #input string\n",
    "len(string) #this working only on jupyter notebook if you want print on vscode or any other compiler so you will use print(len(string))"
   ]
  },
  {
   "cell_type": "markdown",
   "metadata": {},
   "source": [
    "# 2.  Sum of all items in a list\n"
   ]
  },
  {
   "cell_type": "code",
   "execution_count": 3,
   "metadata": {},
   "outputs": [
    {
     "data": {
      "text/plain": [
       "10"
      ]
     },
     "execution_count": 3,
     "metadata": {},
     "output_type": "execute_result"
    }
   ],
   "source": [
    "lst = [1,2,3,4] #input string\n",
    "list = sum(lst) #sum of all list numbers\n",
    "list ##this working only on jupyter notebook if you want print on vscode or any other compiler so you will use print(list)"
   ]
  },
  {
   "cell_type": "markdown",
   "metadata": {},
   "source": [
    "# 3.  Multiplies all items in a list"
   ]
  },
  {
   "cell_type": "code",
   "execution_count": 4,
   "metadata": {},
   "outputs": [
    {
     "name": "stdout",
     "output_type": "stream",
     "text": [
      "24\n"
     ]
    }
   ],
   "source": [
    "# Initialize a list of integers\n",
    "a = [1, 2, 3, 4]\n",
    "\n",
    "# Initialize a variable to store the result of the product\n",
    "# Start with 1 because multiplying by 1 does not change the value\n",
    "res = 1\n",
    "\n",
    "# Iterate through each value in the list `a`\n",
    "for val in a:\n",
    "    # Multiply the current value of `res` with the current value of `val`\n",
    "    res = res * val  # This updates `res` to the cumulative product\n",
    "\n",
    "# After the loop, print the final result\n",
    "print(res)  # Output the product of all numbers in the list\n"
   ]
  },
  {
   "cell_type": "markdown",
   "metadata": {},
   "source": [
    "# 4. Largest numbers from list"
   ]
  },
  {
   "cell_type": "code",
   "execution_count": 5,
   "metadata": {},
   "outputs": [
    {
     "name": "stdout",
     "output_type": "stream",
     "text": [
      "4\n"
     ]
    }
   ],
   "source": [
    "a = [1,2,3,4] #input string\n",
    "largest = max(a) #maximum number of list\n",
    "print(largest)"
   ]
  },
  {
   "cell_type": "markdown",
   "metadata": {},
   "source": [
    "# 5. Smallest numbers from list"
   ]
  },
  {
   "cell_type": "code",
   "execution_count": 6,
   "metadata": {},
   "outputs": [
    {
     "name": "stdout",
     "output_type": "stream",
     "text": [
      "1\n"
     ]
    }
   ],
   "source": [
    "a = [1,2,3,4] #input string\n",
    "smallest = min(a) #minimum number of list\n",
    "print(smallest)"
   ]
  },
  {
   "cell_type": "markdown",
   "metadata": {},
   "source": [
    "# 6. Character Frequency using dictionary amd string"
   ]
  },
  {
   "cell_type": "code",
   "execution_count": 7,
   "metadata": {},
   "outputs": [
    {
     "name": "stdout",
     "output_type": "stream",
     "text": [
      "{'g': 2, 'o': 3, 'l': 1, 'e': 1, '.': 1, 'c': 1, 'm': 1}\n"
     ]
    }
   ],
   "source": [
    "#sample code\n",
    "string = \"google.com\"\n",
    "\n",
    "#Initialize an empty dictionary to store character counts\n",
    "character_count = {}\n",
    "\n",
    "#Loop through each characters in string\n",
    "for char in string :\n",
    "    if char in character_count:\n",
    "            character_count[char]+= 1\n",
    "    else :\n",
    "       character_count[char] = 1\n",
    "       \n",
    "print(character_count)\n"
   ]
  },
  {
   "cell_type": "markdown",
   "metadata": {},
   "source": [
    "# 7. Count the number of stringsCount the number of strings where the string length is 2 or more and the first and last character are same from a given list of strings"
   ]
  },
  {
   "cell_type": "code",
   "execution_count": 8,
   "metadata": {},
   "outputs": [
    {
     "name": "stdout",
     "output_type": "stream",
     "text": [
      "2\n"
     ]
    }
   ],
   "source": [
    "#importing string\n",
    "words = ['abc','xyz','aba','1221']\n",
    "#Initializing ctr as counting for keep track on matching string\n",
    "ctr = 0\n",
    "\n",
    "#Iterate through each word in input list 'words'\n",
    "for word in words :\n",
    "\n",
    "    #Check if the word has length greater than 1 and its first and last characters are the same\n",
    "    if len(word) > 1 and word[0] == word[-1]:\n",
    "\n",
    "        #if condition is met, increment the counter 'ctr' \n",
    "        ctr += 1\n",
    "\n",
    "print(ctr)"
   ]
  },
  {
   "cell_type": "markdown",
   "metadata": {},
   "source": [
    "# 8. Get a list, sorted in increasing order by the last element in each tuple from a given list of non-empty tuples"
   ]
  },
  {
   "cell_type": "code",
   "execution_count": 12,
   "metadata": {},
   "outputs": [
    {
     "name": "stdout",
     "output_type": "stream",
     "text": [
      "[(1, 2), (2, 1), (2, 3), (2, 5), (4, 4)]\n"
     ]
    }
   ],
   "source": [
    "# Input list of tuples\n",
    "tuples = [(2, 5), (1, 2), (4, 4), (2, 3), (2, 1)]\n",
    "\n",
    "# Sort the list of tuples by the last element using indexing\n",
    "sorted_tuples = sorted(tuples)\n",
    "\n",
    "# Print the sorted result\n",
    "print(sorted_tuples)\n"
   ]
  },
  {
   "cell_type": "markdown",
   "metadata": {},
   "source": [
    "#  9. Write a Python program to get a string made of the first 2 and the last 2 chars from a given a string. If the string length is less than 2, return instead the empty string.\n",
    "Sample String : 'w3resource'\n",
    "Expected Result : 'w3ce'\n",
    "Sample String : 'w3'\n",
    "Expected Result : 'w3w3'\n",
    "Sample String : ' w'\n",
    "Expected Result : Empty String"
   ]
  },
  {
   "cell_type": "code",
   "execution_count": 13,
   "metadata": {},
   "outputs": [
    {
     "name": "stdout",
     "output_type": "stream",
     "text": [
      "w3ce\n",
      "w3w3\n",
      " w w\n",
      "\n"
     ]
    }
   ],
   "source": [
    "# Sample strings\n",
    "sample1 = \"w3resource\"\n",
    "sample2 = \"w3\"\n",
    "sample3 = \" w\"\n",
    "sample4 = \"a\"\n",
    "\n",
    "# Check and process each string\n",
    "if len(sample1) < 2:\n",
    "    print(\"\")  # Return empty string\n",
    "else:\n",
    "    print(sample1[:2] + sample1[-2:])  # First 2 + Last 2 chars\n",
    "\n",
    "if len(sample2) < 2:\n",
    "    print(\"\")  # Return empty string\n",
    "else:\n",
    "    print(sample2[:2] + sample2[-2:])  # First 2 + Last 2 chars\n",
    "\n",
    "if len(sample3) < 2:\n",
    "    print(\"\")  # Return empty string\n",
    "else:\n",
    "    print(sample3[:2] + sample3[-2:])  # First 2 + Last 2 chars\n",
    "\n",
    "if len(sample4) < 2:\n",
    "    print(\"\")  # Return empty string\n",
    "else:\n",
    "    print(sample4[:2] + sample4[-2:])  # First 2 + Last 2 chars\n"
   ]
  },
  {
   "cell_type": "markdown",
   "metadata": {},
   "source": [
    "# 10. Write a Python program to get a string from a given string where all occurrences of its first char have been changed to '$', except the first char itself. \n",
    "\n",
    "Sample String : 'restart'\n",
    "Expected Result : 'resta$t'"
   ]
  },
  {
   "cell_type": "code",
   "execution_count": 14,
   "metadata": {},
   "outputs": [
    {
     "name": "stdout",
     "output_type": "stream",
     "text": [
      "resta$t\n"
     ]
    }
   ],
   "source": [
    "# Initialize the string variable 'str' with the value 'restart'\n",
    "str = 'restart'\n",
    "\n",
    "# Store the first character of 'str' in the variable 'char'\n",
    "char = str[0]\n",
    "\n",
    "# Replace all occurrences of the first character 'char' in the string 'str' with '$'\n",
    "str = str.replace(char,'$')\n",
    "\n",
    "# Reconstruct the string by concatenating the first character 'char' with the rest of the modified string\n",
    "str = char + str[1:]\n",
    "\n",
    "# Print the final modified string\n",
    "print(str)\n"
   ]
  }
 ],
 "metadata": {
  "kernelspec": {
   "display_name": "Python 3",
   "language": "python",
   "name": "python3"
  },
  "language_info": {
   "codemirror_mode": {
    "name": "ipython",
    "version": 3
   },
   "file_extension": ".py",
   "mimetype": "text/x-python",
   "name": "python",
   "nbconvert_exporter": "python",
   "pygments_lexer": "ipython3",
   "version": "3.12.8"
  }
 },
 "nbformat": 4,
 "nbformat_minor": 2
}
